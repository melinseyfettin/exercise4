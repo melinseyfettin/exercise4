{
 "cells": [
  {
   "cell_type": "markdown",
   "metadata": {},
   "source": [
    "# 9. Numpy"
   ]
  },
  {
   "cell_type": "markdown",
   "metadata": {},
   "source": [
    "## 9.1: Matrix Operations"
   ]
  },
  {
   "cell_type": "code",
   "execution_count": null,
   "metadata": {},
   "outputs": [],
   "source": [
    "import numpy as np \n",
    "import scipy.linalg\n",
    "import time\n",
    "import random\n",
    "import math\n",
    "n = 200\n",
    "m = 500\n",
    "print(\"A: \")\n",
    "A = np.random.normal(3,1,(n, m))\n",
    "print(A)\n",
    "print(\"B: \")\n",
    "B = scipy.linalg.toeplitz(np.arange(1, m + 1))\n",
    "print(B)"
   ]
  },
  {
   "cell_type": "code",
   "execution_count": null,
   "metadata": {},
   "outputs": [],
   "source": [
    "print(\"A + A: \")\n",
    "print(A + A)\n",
    "\n",
    "print(\"AA^T: \")\n",
    "print(np.dot(A, A.T))\n",
    "\n",
    "print(\"A^TA: \")\n",
    "print(np.dot(A.T, A))\n",
    "\n",
    "print(\"AB: \")\n",
    "print(np.dot(A, B))\n",
    "\n",
    "def func1(A, B , x = 2):\n",
    "    I = np.eye(m, m)\n",
    "    return np.dot(A, B - x * I)\n",
    "\n",
    "print(\"fuct: \")\n",
    "print(func1(A, B))\n"
   ]
  },
  {
   "cell_type": "markdown",
   "metadata": {},
   "source": [
    "## 9.2: Solving a Linear System"
   ]
  },
  {
   "cell_type": "code",
   "execution_count": null,
   "metadata": {},
   "outputs": [],
   "source": [
    "print(\"solve: \")\n",
    "b = np.arange(10 , 10 + m)\n",
    "print(np.linalg.solve(B, b))"
   ]
  },
  {
   "cell_type": "markdown",
   "metadata": {},
   "source": [
    "## 9.3: Norms"
   ]
  },
  {
   "cell_type": "code",
   "execution_count": null,
   "metadata": {},
   "outputs": [],
   "source": [
    "print(\"A(F): \")\n",
    "print(np.linalg.norm(A))\n",
    "\n",
    "print(\"B(inf): \")\n",
    "print(np.linalg.norm(B, np.inf))\n",
    "\n",
    "a, b ,c = scipy.linalg.svd(B)\n",
    "print(\"smallest singular values of B: \")\n",
    "print(b.min())"
   ]
  },
  {
   "cell_type": "markdown",
   "metadata": {},
   "source": [
    "## 9.4: Power Iterations"
   ]
  },
  {
   "cell_type": "code",
   "execution_count": null,
   "metadata": {},
   "outputs": [],
   "source": [
    "Z = np.random.normal(3,1, (n, n))\n",
    "a, b = np.linalg.eig(Z)\n",
    "print(\"The largest eigenvalue: \")\n",
    "print(a.max())\n",
    "print(\"The eigenvector: \")\n",
    "print(b)\n",
    "print(\"CPU time: \")\n",
    "print(time.clock())"
   ]
  },
  {
   "cell_type": "markdown",
   "metadata": {},
   "source": [
    "## 9.6: Nearest Neighbor"
   ]
  },
  {
   "cell_type": "code",
   "execution_count": null,
   "metadata": {},
   "outputs": [],
   "source": [
    "def func2(A, z):\n",
    "    sum = np.inf\n",
    "    for i in A.flat:\n",
    "        if(abs(i - z) < sum):\n",
    "            sum = abs(i - z)\n",
    "    return z + sum\n",
    "print(\"The nearest neighbor: \")\n",
    "print(func2(A, 5))"
   ]
  }
 ],
 "metadata": {
  "kernelspec": {
   "display_name": "Python 3",
   "language": "python",
   "name": "python3"
  },
  "language_info": {
   "codemirror_mode": {
    "name": "ipython",
    "version": 3
   },
   "file_extension": ".py",
   "mimetype": "text/x-python",
   "name": "python",
   "nbconvert_exporter": "python",
   "pygments_lexer": "ipython3",
   "version": "3.8.3"
  }
 },
 "nbformat": 4,
 "nbformat_minor": 2
}
